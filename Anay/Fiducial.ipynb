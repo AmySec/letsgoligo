{
 "cells": [
  {
   "cell_type": "code",
   "execution_count": 1,
   "metadata": {
    "collapsed": true
   },
   "outputs": [],
   "source": [
    "import numpy as np \n",
    "import matplotlib"
   ]
  },
  {
   "cell_type": "code",
   "execution_count": 2,
   "metadata": {
    "collapsed": true
   },
   "outputs": [],
   "source": [
    "def calcR(m,mstar,a):\n",
    "    one=((2*m)/(3*mstar))**(1/3.)\n",
    "    two=a*2\n",
    "    three=(1-one)*5\n",
    "    r=(one*two)/three\n",
    "    return r"
   ]
  },
  {
   "cell_type": "code",
   "execution_count": 3,
   "metadata": {},
   "outputs": [
    {
     "name": "stdout",
     "output_type": "stream",
     "text": [
      "[550, 556.087031515014, 562.2414302166912, 568.4639416799195, 574.7553197311099, 581.1163265395194, 587.5477327095834, 594.0503173742711, 600.6248682894734, 607.2721819294355, 613.993063583246, 620.7883274523937, 627.6587967494038, 634.6053037975663, 641.6286901317678, 648.7298066004391, 655.9095134686315, 663.1686805222334, 670.5081871733408, 677.9289225667936, 685.431785687891, 693.0176854712992, 700.6875409111643, 708.4422811724442, 716.2828457034716, 724.2101843497642]\n"
     ]
    }
   ],
   "source": [
    "m = 25          #small black holes, 25 is an example of a small hole\n",
    "mstar = 1E8    #super massive black hole is always multiplied by 10 to the 8th\n",
    "a = 550       # distance from a small black hole and the massive black holes\n",
    "\n",
    "aValues = []   #an array/list\n",
    "\n",
    "aValues.append(a) #KEEP ADDING NEW BLACK HOLES FURTHER FROM A\n",
    "count = 0         \n",
    "while (count < 25):        #LOOP THROUGH 25 TIMES\n",
    "    r = calcR(m,mstar,a)  #radiosu the position from the small black hole to the stellar black hole\n",
    "    aNext = a + 5*r        #making variable \n",
    "    aValues.append(aNext)\n",
    "    a = aNext\n",
    "    count += 1\n",
    "\n",
    "print (aValues)"
   ]
  },
  {
   "cell_type": "code",
   "execution_count": 4,
   "metadata": {},
   "outputs": [
    {
     "name": "stdout",
     "output_type": "stream",
     "text": [
      "[ 550.          556.08703152  562.24143022  568.46394168  574.75531973\n",
      "  581.11632654  587.54773271  594.05031737  600.62486829  607.27218193\n",
      "  613.99306358  620.78832745  627.65879675  634.6053038   641.62869013\n",
      "  648.7298066   655.90951347  663.16868052  670.50818717  677.92892257\n",
      "  685.43178569  693.01768547  700.68754091  708.44228117  716.2828457\n",
      "  724.21018435]\n"
     ]
    }
   ],
   "source": [
    "aValues=np.array(aValues) #put it in a array for you          \n",
    "new_aValues= np.random.normal(loc=aValues, scale=0.01*aValues)#the scale is by 1%\n",
    "print aValues"
   ]
  },
  {
   "cell_type": "code",
   "execution_count": 5,
   "metadata": {
    "collapsed": true
   },
   "outputs": [],
   "source": [
    "#for (count = 0 , count < 25, count++):\n",
    "    #r = calcR (m,mstar,a)\n",
    "    #aNext = a + 5*r\n",
    "    #aValues.append(aNext)\n",
    "    #a = aNext"
   ]
  },
  {
   "cell_type": "code",
   "execution_count": 6,
   "metadata": {
    "collapsed": true
   },
   "outputs": [],
   "source": [
    "file=open('elements.dat', 'w')\n",
    "file.write(new_aValues)\n",
    "file.close()"
   ]
  },
  {
   "cell_type": "code",
   "execution_count": 7,
   "metadata": {},
   "outputs": [],
   "source": [
    "import random\n",
    "angle1=[]\n",
    "angle2=[]\n",
    "for x in range(25):\n",
    " angle1.append(random.random()*360)\n",
    " angle2.append(random.random()*360)\n",
    "    \n",
    "inclination=abs(np.random.normal(0,0.05,25))\n"
   ]
  },
  {
   "cell_type": "code",
   "execution_count": 8,
   "metadata": {
    "collapsed": true
   },
   "outputs": [],
   "source": [
    "eccentricity_list=[]\n",
    "for x in range(25):\n",
    "    eccentricity=-1\n",
    "    while(eccentricity<0):\n",
    "        eccentricity=np.random.normal(0.05,.02)\n",
    "    eccentricity_list.append(eccentricity)\n",
    "    "
   ]
  },
  {
   "cell_type": "code",
   "execution_count": 9,
   "metadata": {},
   "outputs": [],
   "source": [
    "f=open('elements2.dat', 'w')  #f as in file\n",
    "for i in range(25): #looping through each value and printing it\n",
    "    file.write(\"25   \"+ str(new_aValues[i]) + str(eccentricity_list[i])+ str(inclination[i])+ str(angle1[i]) + str(angle2[i]))\n",
    "    \n",
    "file.close()\n",
    "print\n",
    "#/n means to skip a line"
   ]
  },
  {
   "cell_type": "code",
   "execution_count": null,
   "metadata": {
    "collapsed": true
   },
   "outputs": [],
   "source": []
  }
 ],
 "metadata": {
  "kernelspec": {
   "display_name": "Python 2",
   "language": "python",
   "name": "python2"
  },
  "language_info": {
   "codemirror_mode": {
    "name": "ipython",
    "version": 2
   },
   "file_extension": ".py",
   "mimetype": "text/x-python",
   "name": "python",
   "nbconvert_exporter": "python",
   "pygments_lexer": "ipython2",
   "version": "2.7.13"
  }
 },
 "nbformat": 4,
 "nbformat_minor": 2
}
