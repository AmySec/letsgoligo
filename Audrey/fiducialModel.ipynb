{
 "cells": [
  {
   "cell_type": "code",
   "execution_count": 2,
   "metadata": {
    "collapsed": true
   },
   "outputs": [],
   "source": [
    "import numpy as np\n",
    "#import "
   ]
  },
  {
   "cell_type": "code",
   "execution_count": 1,
   "metadata": {},
   "outputs": [
    {
     "ename": "SyntaxError",
     "evalue": "unexpected EOF while parsing (<ipython-input-1-686a37491139>, line 1)",
     "output_type": "error",
     "traceback": [
      "\u001b[0;36m  File \u001b[0;32m\"<ipython-input-1-686a37491139>\"\u001b[0;36m, line \u001b[0;32m1\u001b[0m\n\u001b[0;31m    def calcHillRadius():\u001b[0m\n\u001b[0m                         ^\u001b[0m\n\u001b[0;31mSyntaxError\u001b[0m\u001b[0;31m:\u001b[0m unexpected EOF while parsing\n"
     ]
    }
   ],
   "source": [
    "#def calcHillRadius():"
   ]
  },
  {
   "cell_type": "code",
   "execution_count": 2,
   "metadata": {
    "collapsed": true
   },
   "outputs": [],
   "source": [
    "import numpy as np\n",
    "import matplotlib as plt\n",
    "\n",
    "\n",
    "# In[123]:\n",
    "\n",
    "\n",
    "aValues = []\n",
    "def calcR(m, mStar, a):\n",
    "    first = (((2*m)/(3*mStar)))**(1.0/3)\n",
    "    r = ((first * a)/(1-first))*(2.0/5)\n",
    "    return r\n",
    "\n",
    "\n"
   ]
  },
  {
   "cell_type": "code",
   "execution_count": 3,
   "metadata": {
    "collapsed": true
   },
   "outputs": [],
   "source": [
    "# In[127]:\n",
    "\n",
    "\n",
    "m = 30\n",
    "mStar = 1e8\n",
    "I = 24\n",
    "a = 550\n",
    "aValues.append(550)\n",
    "def main(a, m, mStar, I):\n",
    "    for i in range(I):\n",
    "        r = calcR(m, mStar, a)\n",
    "        a = calcA(r, a)\n",
    "        aValues.append(a)\n",
    "\n",
    "\n"
   ]
  },
  {
   "cell_type": "code",
   "execution_count": 4,
   "metadata": {
    "collapsed": true
   },
   "outputs": [],
   "source": [
    "# In[128]:\n",
    "\n",
    "\n",
    "def calcA(r, a):\n",
    "    a = a + (5 * r)\n",
    "    return a\n",
    "\n",
    "\n"
   ]
  },
  {
   "cell_type": "code",
   "execution_count": 5,
   "metadata": {},
   "outputs": [
    {
     "name": "stdout",
     "output_type": "stream",
     "text": [
      "[550, 556.4706797890311, 563.0174862997571, 569.6413151533407, 576.3430725078131, 583.1236751820393, 589.984050781141, 596.9251378233961, 603.9478858686297, 611.0532556481173, 618.2422191960154, 625.515759982338, 632.8748730474982, 640.3205651384329, 647.853854846328, 655.4757727459645, 663.1873615367043, 670.9896761851343, 678.8837840693883, 686.8707651251678, 694.9517119934802, 703.1277301701144, 711.3999381568765, 719.7694676146033, 728.237463517977]\n"
     ]
    }
   ],
   "source": [
    "# In[129]:\n",
    "\n",
    "\n",
    "main(a, m, mStar, I)\n",
    "print(aValues)\n",
    "\n",
    "\n"
   ]
  },
  {
   "cell_type": "code",
   "execution_count": 15,
   "metadata": {
    "collapsed": true
   },
   "outputs": [],
   "source": [
    "# In[ ]:\n",
    "\n",
    "\n",
    "aValues = np.array(aValues)\n",
    "new_aValues = np.random.normal(loc=aValues)\n",
    "\n",
    "\n",
    "# calcAi(100, 200, 3)\n",
    "# \n",
    "\n",
    "# a = 200\n",
    "# i = 3\n",
    "# R = 100\n",
    "# \n",
    "# a4 = A3 + 5R\n",
    "# a4 = (A2 + 5R) + 5R\n",
    "# a4 = ((a1 + 5R) + 5R) + 5R\n",
    "# a4 = (((a0 + 5R) + 5R) +5R) +5R \n",
    "\n",
    "# #calcA is recursive\n",
    "# def calcA (R, a, i):\n",
    "# # Base Case: when i is 0--> @a0 + 5@R\n",
    "#     if i == 1:\n",
    "#         print(i)\n",
    "#         return a + 5*R\n",
    "#     else:\n",
    "#         print(i)\n",
    "#         var = calcA(R, a, i-1) + 5*R\n",
    "#         print(var)\n",
    "#         return var\n",
    "# # Recursive Case:\n",
    "\n",
    "# calcA(100, 200, 3)\n",
    "\n",
    "# def calcAi4(R, a, i):\n",
    "#     for index in range(i):\n",
    "#         a = a + 5*R\n",
    "#     return a\n",
    "\n",
    "# calcAi4(100, 200, 3)"
   ]
  },
  {
   "cell_type": "code",
   "execution_count": 17,
   "metadata": {
    "collapsed": true
   },
   "outputs": [],
   "source": [
    "f = open (\"elements.dat\",\"w\")\n",
    "\n",
    "for i in aValues:\n",
    "    f.write(str(m) + \" \")\n",
    "    f.write(str(i) + \" \")\n",
    "    f.write(\" 0 0 0 0 0 \")\n",
    "    f.write(\"\\n\")\n",
    "    \n",
    "f.close()"
   ]
  },
  {
   "cell_type": "code",
   "execution_count": null,
   "metadata": {
    "collapsed": true
   },
   "outputs": [],
   "source": []
  }
 ],
 "metadata": {
  "kernelspec": {
   "display_name": "Python 2",
   "language": "python",
   "name": "python2"
  },
  "language_info": {
   "codemirror_mode": {
    "name": "ipython",
    "version": 2
   },
   "file_extension": ".py",
   "mimetype": "text/x-python",
   "name": "python",
   "nbconvert_exporter": "python",
   "pygments_lexer": "ipython2",
   "version": "2.7.13"
  }
 },
 "nbformat": 4,
 "nbformat_minor": 2
}
