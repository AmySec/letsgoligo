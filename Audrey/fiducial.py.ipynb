{
 "cells": [
  {
   "cell_type": "code",
   "execution_count": 1,
   "metadata": {},
   "outputs": [
    {
     "name": "stdout",
     "output_type": "stream",
     "text": [
      "[550, 557.6802257288435, 565.4676984890434, 573.3639158831625, 581.3703964263558, 589.4886798383951, 597.7203273397712, 606.0669219519306, 614.5300688017055, 623.1113954299943, 631.8125521047525, 640.6352121383546, 649.5810722093876, 658.6518526889372, 667.8492979714317, 677.175176810105, 686.6312826571434, 696.2194340085838, 705.9414747540267, 715.7992745312332, 725.7947290856737, 735.929760635097, 746.2063182391903, 756.6263781744016, 767.1919443139956, 777.9050485134171]\n"
     ]
    }
   ],
   "source": [
    "\n",
    "# coding: utf-8\n",
    "\n",
    "# In[114]:\n",
    "\n",
    "\n",
    "import numpy as np\n",
    "import matplotlib as plt\n",
    "\n",
    "\n",
    "# In[123]:\n",
    "\n",
    "\n",
    "aValues = []\n",
    "def calcR(m, mStar, a):\n",
    "    first = (((2*m)/(3*mStar)))**(1.0/3)\n",
    "    r = ((first * a)/(1-first))*(2.0/5)\n",
    "    return r\n",
    "\n",
    "\n",
    "# In[127]:\n",
    "\n",
    "\n",
    "m = 50\n",
    "mStar = 1e8\n",
    "I = 25\n",
    "a = 550\n",
    "aValues.append(550)\n",
    "def main(a, m, mStar, I):\n",
    "    for i in range(I):\n",
    "        r = calcR(m, mStar, a)\n",
    "        a = calcA(r, a)\n",
    "        aValues.append(a)\n",
    "\n",
    "\n",
    "# In[128]:\n",
    "\n",
    "\n",
    "def calcA(r, a):\n",
    "    a = a + (5 * r)\n",
    "    return a\n",
    "\n",
    "\n",
    "# In[129]:\n",
    "\n",
    "\n",
    "main(a, m, mStar, I)\n",
    "print(aValues)\n",
    "\n",
    "\n",
    "# In[ ]:\n",
    "\n",
    "\n",
    "aValues = np.array(aValues)\n",
    "new_aValues = np.random.normal(loc=aValues)\n",
    "\n",
    "\n"
   ]
  },
  {
   "cell_type": "code",
   "execution_count": 2,
   "metadata": {
    "scrolled": true
   },
   "outputs": [
    {
     "name": "stdout",
     "output_type": "stream",
     "text": [
      "[ 551.19451906  557.98477172  566.05773994  572.05342488  579.94424524\n",
      "  588.71494306  598.15641431  606.13988469  613.41589273  622.57748232\n",
      "  631.40674593  640.75557827  648.65127699  656.83762899  669.17600439\n",
      "  676.99779053  685.35896603  696.63116127  707.14681251  717.28217044\n",
      "  727.30973421  736.39410491  745.66469261  755.61479808  767.884996\n",
      "  777.92133585]\n"
     ]
    }
   ],
   "source": [
    " print (new_aValues)"
   ]
  },
  {
   "cell_type": "code",
   "execution_count": 3,
   "metadata": {
    "collapsed": true
   },
   "outputs": [],
   "source": [
    "file = open(\"elements.dat\",\"w\")\n",
    "file.write(new_aValues)\n",
    "file.close()"
   ]
  },
  {
   "cell_type": "markdown",
   "metadata": {},
   "source": [
    "# Calculating Angles \n"
   ]
  },
  {
   "cell_type": "markdown",
   "metadata": {},
   "source": [
    "# 1. Generating 2 random angles for 25 bodies"
   ]
  },
  {
   "cell_type": "code",
   "execution_count": 4,
   "metadata": {
    "collapsed": true
   },
   "outputs": [],
   "source": [
    "import random\n",
    "\n",
    "angle1 = []\n",
    "angle2 = []\n",
    "\n",
    "for i in range(25):\n",
    "    angle1.append(random.uniform(0,360))\n",
    "    angle2.append(random.uniform(0,360))\n",
    "    \n",
    "angle1 = np.array(angle1)\n",
    "angle2 = np.array(angle2)"
   ]
  },
  {
   "cell_type": "code",
   "execution_count": 5,
   "metadata": {},
   "outputs": [
    {
     "name": "stdout",
     "output_type": "stream",
     "text": [
      "[ 140.2337357   342.76155442  290.42079406  224.78416905  228.61857275\n",
      "   33.61538328    9.77649095    1.09186541  335.52149805  317.95112632\n",
      "   60.44629061  197.23329094  242.88701709  136.09398536  307.63172474\n",
      "  108.97881683  171.70438623   63.71689386   10.18968643  314.56415087\n",
      "  298.66357967   81.1522747   176.06004669   98.54292296   81.11438245]\n",
      "[ 191.74382876  316.56418543  298.70464541  319.22179877  176.51030005\n",
      "   44.37791723  166.81869541  354.23143219  261.19828521   35.19795916\n",
      "   70.64557848   56.81430191  169.07955902    4.86094593  307.95985137\n",
      "  133.18852405   16.94307852  244.90375491   61.394851    138.02374035\n",
      "   51.25868106  261.00482991  241.42596181  230.33024027  102.73840759]\n"
     ]
    }
   ],
   "source": [
    "print angle1\n",
    "print angle2"
   ]
  },
  {
   "cell_type": "code",
   "execution_count": 8,
   "metadata": {
    "collapsed": true
   },
   "outputs": [],
   "source": [
    "##random.uniform?"
   ]
  },
  {
   "cell_type": "markdown",
   "metadata": {},
   "source": [
    "# 2. Finding the Inclination angles for the 25 bodies"
   ]
  },
  {
   "cell_type": "code",
   "execution_count": 9,
   "metadata": {
    "collapsed": true
   },
   "outputs": [],
   "source": [
    "inclination = abs(np.random.normal(0, 0.05, 25))"
   ]
  },
  {
   "cell_type": "code",
   "execution_count": 10,
   "metadata": {},
   "outputs": [
    {
     "name": "stdout",
     "output_type": "stream",
     "text": [
      "[ 0.02195855  0.06803745  0.01811525  0.09587035  0.03536705  0.03982264\n",
      "  0.02691772  0.01189092  0.01933469  0.11108741  0.02772441  0.04292826\n",
      "  0.00437878  0.08796487  0.05722062  0.07489546  0.01218156  0.05039044\n",
      "  0.06562699  0.05358057  0.01997173  0.0082104   0.01362384  0.02304319\n",
      "  0.02884858]\n"
     ]
    }
   ],
   "source": [
    "print inclination"
   ]
  },
  {
   "cell_type": "markdown",
   "metadata": {},
   "source": [
    "# 3. Finding the eccentricity of the 25 bodies"
   ]
  },
  {
   "cell_type": "code",
   "execution_count": 11,
   "metadata": {},
   "outputs": [
    {
     "name": "stdout",
     "output_type": "stream",
     "text": [
      "[ 0.05282009  0.07103114  0.06656748  0.06351764  0.03674234  0.05623541\n",
      "  0.0653551   0.06802837  0.05081093  0.05329095  0.02182466  0.03522292\n",
      "  0.04566308  0.04502421  0.01974623  0.0198876   0.0554389   0.01839669\n",
      "  0.02501185  0.07452499  0.01616939  0.04376393  0.04045675  0.01585312\n",
      "  0.03123   ]\n"
     ]
    }
   ],
   "source": [
    "ECCENTRICITY_MEAN = 0.05\n",
    "ECCENTRICITY_SD = 0.02\n",
    "eccentricity = []\n",
    "\n",
    "\n",
    "for i in range(25):\n",
    "    addingE = -1\n",
    "    while addingE < 0:\n",
    "        #addingE = np.random.normal(ECCENTRICITY_MEAN, ECCENTRICITY_SD)\n",
    "        addingE = np.random.normal(0.05, 0.02)\n",
    "#        print addingE\n",
    "    eccentricity.append(addingE)\n",
    "\n",
    "eccentricity = np.array(eccentricity)    \n",
    "print eccentricity\n"
   ]
  },
  {
   "cell_type": "code",
   "execution_count": 12,
   "metadata": {},
   "outputs": [
    {
     "name": "stdout",
     "output_type": "stream",
     "text": [
      "0.0437045519929\n",
      "0.018577881919\n"
     ]
    }
   ],
   "source": [
    "## Check to make sure the randomized array fits the mean and standard deviation given\n",
    "print eccentricity.mean()\n",
    "print eccentricity.std()"
   ]
  },
  {
   "cell_type": "markdown",
   "metadata": {},
   "source": [
    "# Inputing the values into a data file(mass, radius, ecc, inc, angle1, angle2, 0)"
   ]
  },
  {
   "cell_type": "code",
   "execution_count": 16,
   "metadata": {
    "collapsed": true
   },
   "outputs": [],
   "source": [
    "f = open(\"elements2.dat\",\"a\")\n",
    "\n",
    "for i in range(25):\n",
    "    addFile = str(m) + \"   \" + str(new_aValues[i]) + \"   \" + str(eccentricity[i]) + \"   \" + str(inclination[i]) + \"   \" + str(angle1[i]) + \"   \" + str(angle2[i]) + \"   \" + str(0) + \"\\n\" \n",
    "    f.write(addFile)\n",
    "    \n",
    "\n",
    "f.close()"
   ]
  },
  {
   "cell_type": "code",
   "execution_count": null,
   "metadata": {
    "collapsed": true
   },
   "outputs": [],
   "source": []
  },
  {
   "cell_type": "code",
   "execution_count": null,
   "metadata": {
    "collapsed": true
   },
   "outputs": [],
   "source": []
  }
 ],
 "metadata": {
  "kernelspec": {
   "display_name": "Python 2",
   "language": "python",
   "name": "python2"
  },
  "language_info": {
   "codemirror_mode": {
    "name": "ipython",
    "version": 2
   },
   "file_extension": ".py",
   "mimetype": "text/x-python",
   "name": "python",
   "nbconvert_exporter": "python",
   "pygments_lexer": "ipython2",
   "version": "2.7.13"
  }
 },
 "nbformat": 4,
 "nbformat_minor": 2
}
