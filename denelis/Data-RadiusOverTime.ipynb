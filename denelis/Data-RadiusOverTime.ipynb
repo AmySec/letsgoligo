{
 "cells": [
  {
   "cell_type": "code",
   "execution_count": 3,
   "metadata": {
    "collapsed": true
   },
   "outputs": [],
   "source": [
    "import numpy as np\n",
    "import matplotlib.pyplot as plt\n",
    "from pylab import *\n",
    "%matplotlib inline"
   ]
  },
  {
   "cell_type": "code",
   "execution_count": 4,
   "metadata": {
    "collapsed": true
   },
   "outputs": [],
   "source": [
    "data=loadtxt('output.dat', usecols=(1,2,3,10,11))"
   ]
  },
  {
   "cell_type": "code",
   "execution_count": 5,
   "metadata": {},
   "outputs": [
    {
     "name": "stdout",
     "output_type": "stream",
     "text": [
      "[[  0.00000000e+00   1.00000000e+01   0.00000000e+00   5.50000000e+02\n",
      "    1.43262000e-02]\n",
      " [  1.00000000e+00   1.00000000e+01   0.00000000e+00   5.54478000e+02\n",
      "    1.42682000e-02]\n",
      " [  2.00000000e+00   1.00000000e+01   0.00000000e+00   5.58993000e+02\n",
      "    1.42105000e-02]\n",
      " ..., \n",
      " [  2.20000000e+01   1.00000000e+01   5.33000000e+04  -5.92246000e+02\n",
      "    2.95283000e+02]\n",
      " [  2.30000000e+01   1.00000000e+01   5.33000000e+04  -6.44760000e+02\n",
      "    9.01625000e+01]\n",
      " [  2.40000000e+01   1.00000000e+01   5.33000000e+04   6.19202000e+02\n",
      "    2.60511000e+02]]\n"
     ]
    }
   ],
   "source": [
    "print data"
   ]
  },
  {
   "cell_type": "code",
   "execution_count": 6,
   "metadata": {},
   "outputs": [
    {
     "name": "stdout",
     "output_type": "stream",
     "text": [
      "[ 550.     554.478  558.993 ..., -592.246 -644.76   619.202]\n",
      "[  1.43262000e-02   1.42682000e-02   1.42105000e-02 ...,   2.95283000e+02\n",
      "   9.01625000e+01   2.60511000e+02]\n"
     ]
    }
   ],
   "source": [
    "bod_num = data[:,0]\n",
    "mass = data[:,1]\n",
    "time = data[:,2]\n",
    "x = data[:,3]\n",
    "y = data[:,4]\n",
    "print x\n",
    "print y"
   ]
  },
  {
   "cell_type": "code",
   "execution_count": 7,
   "metadata": {},
   "outputs": [
    {
     "name": "stdout",
     "output_type": "stream",
     "text": [
      "[  0.   1.   2. ...,  22.  23.  24.]\n"
     ]
    }
   ],
   "source": [
    "print bod_num"
   ]
  },
  {
   "cell_type": "code",
   "execution_count": 8,
   "metadata": {
    "collapsed": true
   },
   "outputs": [],
   "source": [
    "obj0=bod_num==0\n",
    "obj1=bod_num==1\n",
    "obj2=bod_num==2\n",
    "obj3=bod_num==3\n",
    "obj4=bod_num==4\n",
    "obj5=bod_num==5\n",
    "obj6=bod_num==6\n",
    "obj7=bod_num==7\n",
    "obj8=bod_num==8\n",
    "obj9=bod_num==9\n",
    "obj10=bod_num==10\n",
    "obj11=bod_num==11\n",
    "obj12=bod_num==12\n",
    "obj13=bod_num==13\n",
    "obj14=bod_num==14\n",
    "obj15=bod_num==15\n",
    "obj16=bod_num==16\n",
    "obj17=bod_num==17\n",
    "obj18=bod_num==18\n",
    "obj19=bod_num==19\n",
    "obj20=bod_num==20\n",
    "obj21=bod_num==21\n",
    "obj22=bod_num==22\n",
    "obj23=bod_num==23\n",
    "obj24=bod_num==24\n",
    "obj25=bod_num==25"
   ]
  },
  {
   "cell_type": "code",
   "execution_count": 9,
   "metadata": {},
   "outputs": [
    {
     "data": {
      "text/plain": [
       "array([ 10.,  10.,  10.,  10.,  10.,  10.,  10.,  10.,  10.,  10.,  10.,\n",
       "        10.,  10.,  10.,  10.,  10.,  10.,  10.,  10.,  10.,  10.,  10.,\n",
       "        10.,  10.,  10.,  10.,  10.,  10.,  10.,  10.,  10.,  10.,  10.,\n",
       "        10.,  10.,  10.,  10.,  10.,  10.,  10.,  10.,  10.,  10.,  10.,\n",
       "        10.,  10.,  10.,  10.,  10.,  10.,  10.,  10.,  10.,  10.,  10.,\n",
       "        10.,  10.,  10.,  10.,  10.,  10.,  10.,  10.,  10.,  10.,  10.,\n",
       "        10.,  10.,  10.,  10.,  10.,  10.,  10.,  10.,  10.,  10.,  10.,\n",
       "        10.,  10.,  10.,  10.,  10.,  10.,  10.,  10.,  10.,  10.,  10.,\n",
       "        10.,  10.,  10.,  10.,  10.,  10.,  10.,  10.,  10.,  10.,  10.,\n",
       "        10.,  10.,  10.,  10.,  10.,  10.,  10.,  10.,  10.,  10.,  10.,\n",
       "        10.,  10.,  10.,  10.,  10.,  10.,  10.,  10.,  10.,  10.,  10.,\n",
       "        10.,  10.,  10.,  10.,  10.,  10.,  10.,  10.,  10.,  10.,  10.,\n",
       "        10.,  10.,  10.,  10.,  10.,  10.,  10.,  10.,  10.,  10.,  10.,\n",
       "        10.,  10.,  10.,  10.,  10.,  10.,  10.,  10.,  10.,  10.,  10.,\n",
       "        10.,  10.,  10.,  10.,  10.,  10.,  10.,  10.,  10.,  10.,  10.,\n",
       "        10.,  10.,  10.,  10.,  10.,  10.,  10.,  10.,  10.,  10.,  10.,\n",
       "        10.,  10.,  10.,  10.,  10.,  10.,  10.,  10.,  10.,  10.,  10.,\n",
       "        10.,  10.,  10.,  10.,  10.,  10.,  10.,  10.,  10.,  10.,  10.,\n",
       "        10.,  10.,  10.,  10.,  10.,  10.,  10.,  10.,  10.,  10.,  10.,\n",
       "        10.,  10.,  10.,  10.,  10.,  10.,  10.,  10.,  10.,  10.,  10.,\n",
       "        10.,  10.,  10.,  10.,  10.,  10.,  10.,  10.,  10.,  10.,  10.,\n",
       "        10.,  10.,  10.,  10.,  10.,  10.,  10.,  10.,  10.,  10.,  10.,\n",
       "        10.,  10.,  10.,  10.,  10.,  10.,  10.,  10.,  10.,  10.,  10.,\n",
       "        10.,  10.,  10.,  10.,  10.,  10.,  10.,  10.,  10.,  10.,  10.,\n",
       "        10.,  10.,  10.,  10.,  10.,  10.,  10.,  10.,  10.,  10.,  10.,\n",
       "        10.,  10.,  10.,  10.,  10.,  10.,  10.,  10.,  10.,  10.,  10.,\n",
       "        10.,  10.,  10.,  10.,  10.,  10.,  10.,  10.,  10.,  10.,  10.,\n",
       "        10.,  10.,  10.,  10.,  10.,  10.,  10.,  10.,  10.,  10.,  10.,\n",
       "        10.,  10.,  10.,  10.,  10.,  10.,  10.,  10.,  10.,  10.,  10.,\n",
       "        10.,  10.,  10.,  10.,  10.,  10.,  10.,  10.,  10.,  10.,  10.,\n",
       "        10.,  10.,  10.,  10.,  10.,  10.,  10.,  10.,  10.,  10.,  10.,\n",
       "        10.,  10.,  10.,  10.,  10.,  10.,  10.,  10.,  10.,  10.,  10.,\n",
       "        10.,  10.,  10.,  10.,  10.,  10.,  10.,  10.,  10.,  10.,  10.,\n",
       "        10.,  10.,  10.,  10.,  10.,  10.,  10.,  10.,  10.,  10.,  10.,\n",
       "        10.,  10.,  10.,  10.,  10.,  10.,  10.,  10.,  10.,  10.,  10.,\n",
       "        10.,  10.,  10.,  10.,  10.,  10.,  10.,  10.,  10.,  10.,  10.,\n",
       "        10.,  10.,  10.,  10.,  10.,  10.,  10.,  10.,  10.,  10.,  10.,\n",
       "        10.,  10.,  10.,  10.,  10.,  10.,  10.,  10.,  10.,  10.,  10.,\n",
       "        10.,  10.,  10.,  10.,  10.,  10.,  10.,  10.,  10.,  10.,  10.,\n",
       "        10.,  10.,  10.,  10.,  10.,  10.,  10.,  10.,  10.,  10.,  10.,\n",
       "        10.,  10.,  10.,  10.,  10.,  10.,  10.,  10.,  10.,  10.,  10.,\n",
       "        10.,  10.,  10.,  10.,  10.,  10.,  10.,  10.,  10.,  10.,  10.,\n",
       "        10.,  10.,  10.,  10.,  10.,  10.,  10.,  10.,  10.,  10.,  10.,\n",
       "        10.,  10.,  10.,  10.,  10.,  10.,  10.,  10.,  10.,  10.,  10.,\n",
       "        10.,  10.,  10.,  10.,  10.,  10.,  10.,  10.,  10.,  10.,  10.,\n",
       "        10.,  10.,  10.,  10.,  10.,  10.,  10.,  10.,  10.,  10.,  10.,\n",
       "        10.,  10.,  10.,  10.,  10.,  10.,  10.,  10.,  10.,  10.,  10.,\n",
       "        10.,  10.,  10.,  10.,  10.,  10.,  10.,  10.,  10.,  10.,  10.,\n",
       "        10.,  10.,  10.,  10.,  10.,  10.])"
      ]
     },
     "execution_count": 9,
     "metadata": {},
     "output_type": "execute_result"
    }
   ],
   "source": [
    "mass[obj0]"
   ]
  },
  {
   "cell_type": "code",
   "execution_count": 10,
   "metadata": {
    "collapsed": true
   },
   "outputs": [],
   "source": [
    "r = []\n",
    "r = np.sqrt((x**2) + (y**2))\n",
    "#print r1\n",
    "#i = 0\n",
    "#for i in bod_num:\n",
    "    #if i == bod_num (i-1):"
   ]
  },
  {
   "cell_type": "code",
   "execution_count": 11,
   "metadata": {},
   "outputs": [
    {
     "data": {
      "image/png": "[encoded data removed]",
      "text/plain": [
       "<matplotlib.figure.Figure at 0x10a129890>"
      ]
     },
     "metadata": {},
     "output_type": "display_data"
    }
   ],
   "source": [
    "fig = plt.figure()\n",
    "for i in range(24): #range is a list of numbers from 0 to 24 (so 25 numbers total)\n",
    "    obj=bod_num==i #boolean indexing\n",
    "    plt.plot(time[obj],r[obj],label=\"%d\"%i)\n",
    "\n",
    "\n",
    "\n",
    "\n",
    "plt.plot(time[obj0], r[obj0], c = \"#cc99ff\", marker = \"*\", label = mass[obj0][0])\n",
    "plt.plot(time[obj1], r[obj1], c = \"#99ff99\", marker = \".\", label = mass[obj0][0])\n",
    "plt.plot(time[obj2], r[obj2], c = \"#cc99ff\", marker = \"*\", label = mass[obj0][0])\n",
    "plt.plot(time[obj3], r[obj3], c = \"#99ff99\", marker = \".\", label = mass[obj0][0])\n",
    "plt.plot(time[obj4], r[obj4], c = \"#cc99ff\", marker = \"*\", label = mass[obj0][0])\n",
    "plt.plot(time[obj5], r[obj5], c = \"#99ff99\", marker = \".\", label = mass[obj0][0])\n",
    "plt.plot(time[obj6], r[obj6], c = \"#cc99ff\", marker = \"*\", label = mass[obj0][0])\n",
    "plt.plot(time[obj7], r[obj7], c = \"#99ff99\", marker = \".\", label = mass[obj0][0])\n",
    "plt.plot(time[obj8], r[obj8], c = \"#cc99ff\", marker = \"*\", label = mass[obj0][0])\n",
    "plt.plot(time[obj9], r[obj9], c = \"#99ff99\", marker = \".\", label = mass[obj0][0])\n",
    "plt.plot(time[obj10], r[obj10], c = \"#cc99ff\", marker = \"*\", label = mass[obj0][0])\n",
    "plt.plot(time[obj11], r[obj11], c = \"#99ff99\", marker = \".\", label = mass[obj0][0])\n",
    "plt.plot(time[obj12], r[obj12], c = \"#cc99ff\", marker = \"*\", label = mass[obj0][0])\n",
    "plt.plot(time[obj13], r[obj13], c = \"#99ff99\", marker = \".\", label = mass[obj0][0])\n",
    "plt.plot(time[obj14], r[obj14], c = \"#cc99ff\", marker = \"*\", label = mass[obj0][0])\n",
    "plt.plot(time[obj15], r[obj15], c = \"#99ff99\", marker = \".\", label = mass[obj0][0])\n",
    "plt.plot(time[obj16], r[obj16], c = \"#cc99ff\", marker = \"*\", label = mass[obj0][0])\n",
    "plt.plot(time[obj17], r[obj17], c = \"#99ff99\", marker = \".\", label = mass[obj0][0])\n",
    "plt.plot(time[obj18], r[obj18], c = \"#cc99ff\", marker = \"*\", label = mass[obj0][0])\n",
    "plt.plot(time[obj19], r[obj19], c = \"#99ff99\", marker = \".\", label = mass[obj0][0])\n",
    "plt.plot(time[obj20], r[obj20], c = \"#cc99ff\", marker = \"*\", label = mass[obj0][0])\n",
    "plt.plot(time[obj21], r[obj21], c = \"#99ff99\", marker = \".\", label = mass[obj0][0])\n",
    "plt.plot(time[obj22], r[obj22], c = \"#cc99ff\", marker = \"*\", label = mass[obj0][0])\n",
    "plt.plot(time[obj23], r[obj23], c = \"#99ff99\", marker = \".\", label = mass[obj0][0])\n",
    "plt.plot(time[obj24], r[obj24], c = \"#cc99ff\", marker = \"*\", label = mass[obj0][0])\n",
    "plt.plot(time[obj25], r[obj25], c = \"#99ff99\", marker = \".\", label = mass[obj0][0])\n",
    "\n",
    "\n",
    "\n",
    "\n",
    "\n",
    "\n",
    "\n",
    "\n",
    "#print bod_num\n",
    "plt.legend()\n",
    "\n",
    "plt.ylabel(\"Radius\")\n",
    "plt.xlabel(\"Time\")\n",
    "plt.title(\"Radius Over Time\")\n",
    "\n",
    "#plt.xlim(12000, 130000)\n",
    "#plt.ylim(655, 680)\n",
    "\n",
    "plt.savefig(\"2nbody_pathA.png\")\n"
   ]
  },
  {
   "cell_type": "code",
   "execution_count": null,
   "metadata": {
    "collapsed": true
   },
   "outputs": [],
   "source": []
  },
  {
   "cell_type": "code",
   "execution_count": null,
   "metadata": {
    "collapsed": true
   },
   "outputs": [],
   "source": []
  }
 ],
 "metadata": {
  "kernelspec": {
   "display_name": "Python 2",
   "language": "python",
   "name": "python2"
  },
  "language_info": {
   "codemirror_mode": {
    "name": "ipython",
    "version": 2
   },
   "file_extension": ".py",
   "mimetype": "text/x-python",
   "name": "python",
   "nbconvert_exporter": "python",
   "pygments_lexer": "ipython2",
   "version": "2.7.13"
  }
 },
 "nbformat": 4,
 "nbformat_minor": 2
}
