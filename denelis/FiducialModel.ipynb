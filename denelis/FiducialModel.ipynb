{
 "cells": [
  {
   "cell_type": "code",
   "execution_count": 12,
   "metadata": {
    "collapsed": true
   },
   "outputs": [],
   "source": [
    "import numpy as np\n",
    "import matplotlib.pyplot as plt\n",
    "%matplotlib inline"
   ]
  },
  {
   "cell_type": "code",
   "execution_count": 13,
   "metadata": {
    "collapsed": true
   },
   "outputs": [],
   "source": [
    "a = 550 #set mass for a star\n",
    "mstar = 1e8 #super massive blackhole \n",
    "m = 10 #mass of black hole \n",
    "avalues = []\n",
    "avalues.append(a)"
   ]
  },
  {
   "cell_type": "code",
   "execution_count": 14,
   "metadata": {},
   "outputs": [
    {
     "name": "stdout",
     "output_type": "stream",
     "text": [
      "[550, 554.4784406505283, 558.9933475386208, 563.5450175949696, 568.1337501680605, 572.75984704386, 577.4236124656628, 582.1253531541012, 586.8653783273165, 591.643999721296, 596.4615316103742, 601.3182908279019, 606.2145967870836, 611.1507715019834, 616.1271396087038, 621.1440283867354, 626.201767780481, 631.3006904209551, 636.4411316476602, 641.6234295306404, 646.8479248927156, 652.1149613318963, 657.4248852439807, 662.7780458453362, 668.1747951958662, 673.6154882221637]\n"
     ]
    }
   ],
   "source": [
    "def calcR(m,mstar,a):\n",
    "    p1 = ((2*m)/(3*mstar))**(1/3.)\n",
    "    p2 = (a*2)\n",
    "    p3 = (1- p1)*(5)\n",
    "    r = ((p1*p2)/p3)\n",
    "    return r\n",
    "count = 0\n",
    "while(count<25):\n",
    "    r = calcR(m,mstar,a)\n",
    "    anext = a + (5*r)\n",
    "    avalues.append(anext)\n",
    "    a = anext \n",
    "    count += 1\n",
    "print avalues"
   ]
  },
  {
   "cell_type": "code",
   "execution_count": 15,
   "metadata": {
    "collapsed": true
   },
   "outputs": [],
   "source": [
    "avalues = np.array(avalues)\n",
    "new_avalues = np.random.normal(loc=avalues, scale = 0.01*avalues)\n",
    "#print new_avalues"
   ]
  },
  {
   "cell_type": "code",
   "execution_count": 16,
   "metadata": {},
   "outputs": [],
   "source": [
    "file = open(\"elements2.dat\", \"w\")\n",
    "for i in avalues:\n",
    "    file.write(new_avalues)\n",
    "file.close()"
   ]
  },
  {
   "cell_type": "code",
   "execution_count": 17,
   "metadata": {},
   "outputs": [
    {
     "name": "stdout",
     "output_type": "stream",
     "text": [
      "[254.92880120823625, 87.15933861280229, 174.4031015124171, 105.88983958776325, 322.33859096307964, 167.60423482701415, 168.29988657893296, 90.5615915938384, 159.8152596563164, 18.779075345661514, 88.82316570955795, 303.15011571171027, 7.0169063958439, 358.4115356702549, 77.18405124473207, 102.68836910727713, 298.49773371272295, 50.547091115027214, 76.1440981627859, 202.4919441179088, 183.0154069987624, 95.45855440496352, 342.2923183531881, 317.61897056270374, 336.0533457348894]\n",
      "[217.50739702827542, 355.5385512261301, 146.25816646331515, 43.73203159812728, 72.46139967975557, 106.28891122314053, 189.3628104919609, 112.11400355125268, 345.05350988614305, 3.6029617280767523, 196.2164091467939, 161.29229913507248, 227.4216162166771, 331.36795435665704, 107.19504658459843, 287.62385719595727, 34.58289191697625, 39.10051469457232, 288.417236583924, 90.79506278760648, 337.6699276192617, 305.12687781736395, 173.85541358025878, 53.825151782597594, 326.0851457143386]\n"
     ]
    }
   ],
   "source": [
    "import random\n",
    "anglevalues1 = []\n",
    "anglevalues2 = []\n",
    "for x in range(25):\n",
    "    anglevalues1.append(random.random()*360)\n",
    "    anglevalues2.append(random.random()*360)\n",
    "print anglevalues1\n",
    "print anglevalues2    "
   ]
  },
  {
   "cell_type": "code",
   "execution_count": 18,
   "metadata": {},
   "outputs": [
    {
     "name": "stdout",
     "output_type": "stream",
     "text": [
      "[ 0.01412662  0.04510711  0.02502833  0.00875711  0.05730753  0.01951576\n",
      "  0.07088189  0.03336479  0.05064879  0.06137689  0.0218758   0.02087946\n",
      "  0.01336992  0.00468905  0.00615512  0.00160928  0.09906407  0.0884328\n",
      "  0.01899074  0.00445393  0.01664588  0.08051934  0.00814701  0.04156784\n",
      "  0.02372672]\n",
      "[0.06650809071305389, 0.037926702610461896, 0.033042166667146024, 0.021030903179413515, 0.06153087736844811, 0.07557651191414286, 0.06924179238661571, 0.06870034576953171, 0.014543862308917105, 0.0598863601092362, 0.06049084424981996, 0.022346740701490217, 0.047035704450766366, 0.044372632420399946, 0.07331677665060557, 0.09039492437714065, 0.06082109473125165, 0.05637115029396534, 0.0016830531438508864, 0.02197952854942933, 0.03893049535187692, 0.0847449504366401, 0.06381483224864772, 0.05605911834651821, 0.05196639958313178]\n"
     ]
    }
   ],
   "source": [
    "inc = abs(np.random.normal(0, 0.05, 25))\n",
    "print inc\n",
    "\n",
    "eccen_list = []\n",
    "for i in range(25):\n",
    "    eccen = -1\n",
    "    while (eccen < 0):\n",
    "        eccen = (np.random.normal(0.05, 0.02))\n",
    "        eccen_list.append(eccen)\n",
    "print eccen_list"
   ]
  },
  {
   "cell_type": "code",
   "execution_count": 19,
   "metadata": {
    "collapsed": true
   },
   "outputs": [],
   "source": [
    "f = open(\"elements2.dat\", \"w\")\n",
    "for i in range(25):\n",
    "    file.write(str(m)+\"   \") \n",
    "    file.write(\"25  \" + str(new_aValues[i]) + str(eccentricity_list[i])+ str(inclination[i])+ str(angle1[i]) + str(angle2[i]) + \" + /n\")\n",
    "    file.write\n",
    "\n",
    "\n",
    "file.close()"
   ]
  },
  {
   "cell_type": "code",
   "execution_count": null,
   "metadata": {
    "collapsed": true
   },
   "outputs": [],
   "source": []
  }
 ],
 "metadata": {
  "kernelspec": {
   "display_name": "Python 2",
   "language": "python",
   "name": "python2"
  },
  "language_info": {
   "codemirror_mode": {
    "name": "ipython",
    "version": 2
   },
   "file_extension": ".py",
   "mimetype": "text/x-python",
   "name": "python",
   "nbconvert_exporter": "python",
   "pygments_lexer": "ipython2",
   "version": "2.7.13"
  }
 },
 "nbformat": 4,
 "nbformat_minor": 2
}
