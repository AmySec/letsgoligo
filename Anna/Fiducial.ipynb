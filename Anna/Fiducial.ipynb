{
 "cells": [
  {
   "cell_type": "code",
   "execution_count": 57,
   "metadata": {
    "collapsed": true
   },
   "outputs": [],
   "source": [
    "import numpy as np\n",
    "import matplotlib as plt\n",
    "import random\n",
    "from sklearn import preprocessing"
   ]
  },
  {
   "cell_type": "markdown",
   "metadata": {},
   "source": [
    "# Calculating mass and radius"
   ]
  },
  {
   "cell_type": "code",
   "execution_count": 58,
   "metadata": {
    "collapsed": true
   },
   "outputs": [],
   "source": [
    "aValues = []\n",
    "def calcR(m, mStar, a):\n",
    "    first = (((2*m)/(3*mStar)))**(1.0/3)\n",
    "    r = ((first * a)/(1-first))*(2.0/5)\n",
    "    return r"
   ]
  },
  {
   "cell_type": "code",
   "execution_count": 59,
   "metadata": {
    "collapsed": true
   },
   "outputs": [],
   "source": [
    "m = 50\n",
    "mStar = 1e8\n",
    "I = 25\n",
    "a = 550\n",
    "aValues.append(550)\n",
    "def main(a, m, mStar, I):\n",
    "    for i in range(I):\n",
    "        r = calcR(m, mStar, a)\n",
    "        a = calcA(r, a)\n",
    "        aValues.append(a)"
   ]
  },
  {
   "cell_type": "code",
   "execution_count": 60,
   "metadata": {
    "collapsed": true
   },
   "outputs": [],
   "source": [
    "def calcA(r, a):\n",
    "    a = a + (5 * r)\n",
    "    return a"
   ]
  },
  {
   "cell_type": "code",
   "execution_count": 61,
   "metadata": {},
   "outputs": [
    {
     "name": "stdout",
     "output_type": "stream",
     "text": [
      "[550, 557.6802257288435, 565.4676984890434, 573.3639158831625, 581.3703964263558, 589.4886798383951, 597.7203273397712, 606.0669219519306, 614.5300688017055, 623.1113954299943, 631.8125521047525, 640.6352121383546, 649.5810722093876, 658.6518526889372, 667.8492979714317, 677.175176810105, 686.6312826571434, 696.2194340085838, 705.9414747540267, 715.7992745312332, 725.7947290856737, 735.929760635097, 746.2063182391903, 756.6263781744016, 767.1919443139956, 777.9050485134171]\n"
     ]
    }
   ],
   "source": [
    "main(a, m, mStar, I)\n",
    "print(aValues)"
   ]
  },
  {
   "cell_type": "code",
   "execution_count": 62,
   "metadata": {
    "collapsed": true
   },
   "outputs": [],
   "source": [
    "aValues = np.array(aValues)"
   ]
  },
  {
   "cell_type": "code",
   "execution_count": 63,
   "metadata": {
    "collapsed": true
   },
   "outputs": [],
   "source": [
    "f = open(\"elements.dat\", \"w\")\n",
    "for i in aValues:\n",
    "    f.write(str(m) + \" \")\n",
    "    f.write(str(i) + \" \")\n",
    "    f.write(\" 0 0 0 0 0 \")\n",
    "    f.write(\"\\n\")\n",
    "f.close()"
   ]
  },
  {
   "cell_type": "markdown",
   "metadata": {},
   "source": [
    "#Calculating "
   ]
  },
  {
   "cell_type": "code",
   "execution_count": 64,
   "metadata": {},
   "outputs": [
    {
     "name": "stdout",
     "output_type": "stream",
     "text": [
      "[  65.89040568  226.25098514  333.94147664   67.11340202  358.00377127\n",
      "  292.50569599   25.21610833  209.85323543    3.04270284  308.4328205\n",
      "  258.66275776  243.4732635   119.14665572    0.78516339   27.10281151\n",
      "  277.82117381  213.08312731  122.18705186  201.44251605  118.43802174\n",
      "  303.82768315  342.53168108   66.99891397  316.17037861  116.83810028]\n",
      "[  98.67385788  303.10058821  312.30365336  318.56872237  290.70437428\n",
      "  258.38610931   88.57895433   81.50812583  254.16160058  161.58131737\n",
      "   69.10088553    7.95337451  257.19109162   42.69249788  272.33349885\n",
      "   89.02546577  177.21045945  128.53946659  224.41047851  131.8533992\n",
      "  289.59115643  141.7037919    88.30454701  129.04952527    7.93881614]\n",
      "[ 0.04414688  0.02463187  0.02184969  0.05894153  0.01966702  0.05071716\n",
      "  0.00548507  0.04233728  0.00218222  0.11804565  0.01682852  0.05249183\n",
      "  0.00195337  0.02738394  0.02374012  0.0026467   0.00573097  0.02119876\n",
      "  0.06994465  0.01735382  0.0024641   0.01194062  0.04834378  0.02017374\n",
      "  0.04787716]\n",
      "[ 0.02316045  0.06178882  0.01782761  0.02566815  0.05726944  0.04671289\n",
      "  0.0499296   0.02340753  0.03914419  0.04648858  0.06244057  0.07811041\n",
      "  0.04360676  0.06774501  0.05394364  0.04133106  0.01855494  0.07223739\n",
      "  0.01266993  0.04882248  0.06349913  0.06351453  0.03772174  0.05303817\n",
      "  0.03597172]\n"
     ]
    }
   ],
   "source": [
    "#Angles\n",
    "angle1 = [];\n",
    "for i in range(25):\n",
    "    angle1.append(random.uniform(0.0,360.0))\n",
    "angle1_array = np.array(angle1)\n",
    "print (angle1_array)\n",
    "\n",
    "angle2 = []\n",
    "for i in range(25):\n",
    "    angle2.append(random.uniform(0.0,360.0))\n",
    "angle2_array = np.array(angle2)\n",
    "print (angle2_array)\n",
    "\n",
    "#Inclination\n",
    "inclination = abs(np.random.normal(0, 0.05, 25))\n",
    "print (inclination)\n",
    "\n",
    "#Eccentricity\n",
    "eccentricity = []\n",
    "count4 = 0\n",
    "while (count4 <25):\n",
    "    ec = random.gauss(0.05, 0.02)\n",
    "    if (ec > 0):\n",
    "        eccentricity.append(ec)\n",
    "        count4 +=1\n",
    "eccentricity = np.array(eccentricity)\n",
    "print (eccentricity)\n",
    "\n"
   ]
  },
  {
   "cell_type": "code",
   "execution_count": 66,
   "metadata": {
    "collapsed": true
   },
   "outputs": [],
   "source": [
    "f = open(\"elements2.dat\", \"w\")\n",
    "for i in range(25):\n",
    "    f.write(str(m) + \" \")\n",
    "    f.write(str(aValues[i]) + \" \")\n",
    "    f.write(str(eccentricity[i]) + \" \")\n",
    "    f.write(str(inclination[i]) + \" \")\n",
    "    f.write(str(angle1_array[i]) + \" \")\n",
    "    f.write(str(angle2_array[i]) + \" \")\n",
    "    f.write(\" 0 \")\n",
    "    f.write(\"\\n\")\n",
    "f.close()"
   ]
  },
  {
   "cell_type": "code",
   "execution_count": null,
   "metadata": {
    "collapsed": true
   },
   "outputs": [],
   "source": []
  }
 ],
 "metadata": {
  "kernelspec": {
   "display_name": "Python 3",
   "language": "python",
   "name": "python3"
  },
  "language_info": {
   "codemirror_mode": {
    "name": "ipython",
    "version": 3
   },
   "file_extension": ".py",
   "mimetype": "text/x-python",
   "name": "python",
   "nbconvert_exporter": "python",
   "pygments_lexer": "ipython3",
   "version": "3.6.3"
  }
 },
 "nbformat": 4,
 "nbformat_minor": 2
}
