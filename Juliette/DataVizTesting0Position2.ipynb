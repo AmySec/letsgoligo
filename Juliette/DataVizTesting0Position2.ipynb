{
 "cells": [
  {
   "cell_type": "code",
   "execution_count": 24,
   "metadata": {
    "collapsed": true
   },
   "outputs": [],
   "source": [
    "import numpy as np\n",
    "import matplotlib as plt\n",
    "from pylab import *\n",
    "%matplotlib inline"
   ]
  },
  {
   "cell_type": "code",
   "execution_count": 25,
   "metadata": {
    "collapsed": true
   },
   "outputs": [],
   "source": [
    "data = loadtxt('output.dat', usecols = (1,2,3,10,11))"
   ]
  },
  {
   "cell_type": "code",
   "execution_count": 26,
   "metadata": {
    "collapsed": true
   },
   "outputs": [],
   "source": [
    "bod_Num = data[:,0] \n",
    "mass = data[:,1]\n",
    "time =  data[:,2]\n",
    "x =  data[:,3]\n",
    "y =  data[:,4]"
   ]
  },
  {
   "cell_type": "code",
   "execution_count": 27,
   "metadata": {
    "collapsed": true
   },
   "outputs": [],
   "source": [
    "obj0 = bod_Num == 0\n",
    "obj1 = bod_Num == 0"
   ]
  },
  {
   "cell_type": "code",
   "execution_count": 28,
   "metadata": {},
   "outputs": [],
   "source": [
    "obj0 = bod_Num == 0\n",
    "obj1 = bod_Num == 0\n",
    "obj2 = bod_Num == 0\n",
    "obj3 = bod_Num == 0\n",
    "obj4 = bod_Num == 0\n",
    "obj5 = bod_Num == 0\n",
    "obj6 = bod_Num == 0\n",
    "obj7 = bod_Num == 0\n",
    "obj8 = bod_Num == 0\n",
    "obj9 = bod_Num == 0\n",
    "obj10 = bod_Num == 0\n",
    "obj11 = bod_Num == 0\n",
    "obj12 = bod_Num == 0\n",
    "obj13 = bod_Num == 0\n",
    "obj14 = bod_Num == 0\n",
    "obj15 = bod_Num == 0\n",
    "obj16 = bod_Num == 0\n",
    "obj17 = bod_Num == 0\n",
    "obj18 = bod_Num == 0\n",
    "obj19 = bod_Num == 0\n",
    "obj20 = bod_Num == 0\n",
    "obj21 = bod_Num == 0\n",
    "obj22 = bod_Num == 0\n",
    "obj23 = bod_Num == 0\n",
    "obj24 = bod_Num == 0\n",
    "obj25 = bod_Num == 0"
   ]
  },
  {
   "cell_type": "code",
   "execution_count": 29,
   "metadata": {},
   "outputs": [
    {
     "name": "stdout",
     "output_type": "stream",
     "text": [
      "[ 550.00004776  555.6480468   561.35504585 ...,  684.24666226  690.10605407\n",
      "  697.12647678]\n"
     ]
    }
   ],
   "source": [
    "radius = np.sqrt(x*x + y*y)\n",
    "print(radius)"
   ]
  },
  {
   "cell_type": "code",
   "execution_count": 30,
   "metadata": {},
   "outputs": [
    {
     "data": {
      "image/png": "[encoded data removed]",
      "text/plain": [
       "<matplotlib.figure.Figure at 0x11a36d828>"
      ]
     },
     "metadata": {},
     "output_type": "display_data"
    }
   ],
   "source": [
    "fig = plt.figure(figsize=(6,6))\n",
    "plt.plot(time[obj0], radius[obj0], label = mass[obj0][0])\n",
    "plt.plot(time[obj1], radius[obj1], label = mass[obj1][0])\n",
    "plt.plot(time[obj2], radius[obj2], label = mass[obj2][0])\n",
    "plt.plot(time[obj3], radius[obj3], label = mass[obj3][0])\n",
    "plt.plot(time[obj4], radius[obj4], label = mass[obj4][0])\n",
    "plt.plot(time[obj5], radius[obj5], label = mass[obj5][0])\n",
    "plt.plot(time[obj6], radius[obj6], label = mass[obj6][0])\n",
    "plt.plot(time[obj7], radius[obj7], label = mass[obj7][0])\n",
    "plt.plot(time[obj8], radius[obj8], label = mass[obj8][0])\n",
    "plt.plot(time[obj9], radius[obj9], label = mass[obj9][0])\n",
    "plt.plot(time[obj10], radius[obj10], label = mass[obj10][0])\n",
    "plt.plot(time[obj11], radius[obj11], label = mass[obj11][0])\n",
    "plt.plot(time[obj12], radius[obj12], label = mass[obj12][0])\n",
    "plt.plot(time[obj13], radius[obj13], label = mass[obj13][0])\n",
    "plt.plot(time[obj14], radius[obj14], label = mass[obj14][0])\n",
    "plt.plot(time[obj15], radius[obj15], label = mass[obj15][0])\n",
    "plt.plot(time[obj16], radius[obj16], label = mass[obj16][0])\n",
    "plt.plot(time[obj17], radius[obj17], label = mass[obj17][0])\n",
    "plt.plot(time[obj18], radius[obj18], label = mass[obj18][0])\n",
    "plt.plot(time[obj19], radius[obj19], label = mass[obj19][0])\n",
    "plt.plot(time[obj20], radius[obj20], label = mass[obj20][0])\n",
    "plt.plot(time[obj21], radius[obj21], label = mass[obj21][0])\n",
    "plt.plot(time[obj22], radius[obj22], label = mass[obj22][0])\n",
    "plt.plot(time[obj23], radius[obj23], label = mass[obj23][0])\n",
    "plt.plot(time[obj24], radius[obj24], label = mass[obj24][0])\n",
    "plt.plot(time[obj25], radius[obj25], label = mass[obj25][0])\n",
    "plt.xlabel('Time (days)')\n",
    "plt.ylabel('Radius (au)')\n",
    "plt.gca().tick_params(labelsize=10)\n",
    "plt.xlim(0,100000)\n",
    "plt.legend()\n",
    "plt.savefig(\"plot.png\")"
   ]
  },
  {
   "cell_type": "code",
   "execution_count": null,
   "metadata": {},
   "outputs": [],
   "source": []
  }
 ],
 "metadata": {
  "kernelspec": {
   "display_name": "Python 3",
   "language": "python",
   "name": "python3"
  },
  "language_info": {
   "codemirror_mode": {
    "name": "ipython",
    "version": 3
   },
   "file_extension": ".py",
   "mimetype": "text/x-python",
   "name": "python",
   "nbconvert_exporter": "python",
   "pygments_lexer": "ipython3",
   "version": "3.6.3"
  }
 },
 "nbformat": 4,
 "nbformat_minor": 2
}
