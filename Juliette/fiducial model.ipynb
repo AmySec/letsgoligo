{
 "cells": [
  {
   "cell_type": "code",
   "execution_count": null,
   "metadata": {
    "collapsed": true
   },
   "outputs": [],
   "source": [
    "import numpy as np\n",
    "import matplotlib as plt\n",
    "%matplotlib inline\n",
    "import random\n",
    "import math"
   ]
  },
  {
   "cell_type": "code",
   "execution_count": null,
   "metadata": {
    "collapsed": true
   },
   "outputs": [],
   "source": [
    "def calcR(m,mstar,a):\n",
    "   one=((2*m)/(3*mstar))**(1/3.)\n",
    "   two=a*2\n",
    "   three=(1-one)*5\n",
    "   r=(one*two)/three\n",
    "   return r"
   ]
  },
  {
   "cell_type": "code",
   "execution_count": null,
   "metadata": {
    "collapsed": true
   },
   "outputs": [],
   "source": [
    "m = 20 ##mass of black hole\n",
    "mstar = 1E8 ##super massive black hole\n",
    "a = 550  ## distance between black hole and super massive black hole \n",
    "num = 25\n",
    "aValues = []\n",
    "angle1 = []\n",
    "angle2 = []\n",
    "inclination = []\n",
    "numbers = []\n",
    "aValues.append(a)\n",
    "count = 0\n",
    "eccentricity = []\n",
    "\n",
    "while (count < num):\n",
    "   r = calcR(m,mstar,a) #distance of stellar mass bh from super mass bh l\n",
    "   aNext = a + 5*r\n",
    "   aValues.append(aNext)\n",
    "   a = aNext\n",
    "   count += 1\n",
    "#print(aValues)\n",
    "\n",
    "aValues = np.array(aValues)\n",
    "\n",
    "count2 = 0\n",
    "\n",
    "while (count2 < num):\n",
    "    deg = random.uniform(0.0, 360.0)\n",
    "    angle1 .append(deg)\n",
    "    count2 +=1\n",
    "#print(angle1)\n",
    "\n",
    "angle1 = np.array(angle1)\n",
    "\n",
    "    \n",
    "count3 = 0    \n",
    "while (count3 < num):\n",
    "    deg = random.uniform(0.0, 360.0)\n",
    "    angle2 .append(deg)\n",
    "    count3 +=1    \n",
    "#print (angle2)\n",
    "    \n",
    "angle2 = np.array(angle2)\n",
    "\n",
    "inclination = abs(np.random.normal(0,0.05,25))\n",
    "#print(inclination)\n",
    "\n",
    "count4 = 0\n",
    "while (count4 < num):\n",
    "    ec = random.gauss(0.05, 0.02)\n",
    "    if (ec > 0):\n",
    "        eccentricity.append(ec)\n",
    "        count4 += 1\n",
    "#print (eccentricity)\n",
    "\n",
    "eccentricity = np.array(eccentricity)\n"
   ]
  },
  {
   "cell_type": "code",
   "execution_count": null,
   "metadata": {
    "collapsed": true
   },
   "outputs": [],
   "source": [
    "f = open(\"elements2.dat\",\"w\")\n",
    "for i in range(num):\n",
    "    f.write(str(m)+ \" \"+ str(aValues[i])+ \" \" + str(eccentricity[i])+ \" \" + str(inclination[i])+ \" \" + str(angle1[i])+ \" \" + str(angle2[i])+ \" \" + \" 0 \" + \"\\n\")\n",
    "                \n",
    "f.close()\n",
    "\n"
   ]
  },
  {
   "cell_type": "markdown",
   "metadata": {},
   "source": [
    "file = open(\"elements2.dat\",\"w\")\n",
    "for i in range(25):\n",
    "    file.write(str(m)+ \" \")\n",
    "    file.write(str(aValues[i])+ \" \")\n",
    "    file.write(str(eccentricity[i])+ \" \")\n",
    "    file.write(str(inclination[i])+ \" \")\n",
    "    file.write(str(angle1[i])+ \" \")\n",
    "    file.write(str(angle2[i])+ \" \")\n",
    "    file.write(\" 0 \")\n",
    "    file.write(\"\\n\")\n",
    "file.close()"
   ]
  },
  {
   "cell_type": "code",
   "execution_count": null,
   "metadata": {
    "collapsed": true
   },
   "outputs": [],
   "source": []
  }
 ],
 "metadata": {
  "kernelspec": {
   "display_name": "Python 3",
   "language": "python",
   "name": "python3"
  },
  "language_info": {
   "codemirror_mode": {
    "name": "ipython",
    "version": 3
   },
   "file_extension": ".py",
   "mimetype": "text/x-python",
   "name": "python",
   "nbconvert_exporter": "python",
   "pygments_lexer": "ipython3",
   "version": "3.6.1"
  }
 },
 "nbformat": 4,
 "nbformat_minor": 2
}
