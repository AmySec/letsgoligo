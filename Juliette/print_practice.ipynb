{
 "cells": [
  {
   "cell_type": "code",
   "execution_count": 70,
   "metadata": {
    "collapsed": true
   },
   "outputs": [],
   "source": [
    "import numpy as np\n",
    "import matplotlib.pyplot as plt\n",
    "from pylab import *\n",
    "%matplotlib inline"
   ]
  },
  {
   "cell_type": "markdown",
   "metadata": {},
   "source": [
    "Create a list called list1 of 5 numbers between 0 and 100"
   ]
  },
  {
   "cell_type": "code",
   "execution_count": 71,
   "metadata": {
    "collapsed": true
   },
   "outputs": [],
   "source": [
    "list1 = [7, 24, 53, 77, 89]"
   ]
  },
  {
   "cell_type": "markdown",
   "metadata": {},
   "source": [
    "Print this list as a string"
   ]
  },
  {
   "cell_type": "code",
   "execution_count": 72,
   "metadata": {},
   "outputs": [
    {
     "name": "stdout",
     "output_type": "stream",
     "text": [
      "[7, 24, 53, 77, 89]\n"
     ]
    }
   ],
   "source": [
    "print (str(list1))"
   ]
  },
  {
   "cell_type": "markdown",
   "metadata": {},
   "source": [
    "Print each number in this list individually (one at a time) as a string"
   ]
  },
  {
   "cell_type": "code",
   "execution_count": 73,
   "metadata": {},
   "outputs": [
    {
     "name": "stdout",
     "output_type": "stream",
     "text": [
      "7\n",
      "24\n",
      "53\n",
      "77\n",
      "89\n"
     ]
    }
   ],
   "source": [
    "i = 0\n",
    "while (i<=4):\n",
    "    print(str(list1[i]))\n",
    "    i +=1\n",
    "    "
   ]
  },
  {
   "cell_type": "markdown",
   "metadata": {},
   "source": [
    "\n",
    "Print the first number in this list as a string"
   ]
  },
  {
   "cell_type": "code",
   "execution_count": 74,
   "metadata": {
    "scrolled": true
   },
   "outputs": [
    {
     "name": "stdout",
     "output_type": "stream",
     "text": [
      "7\n"
     ]
    }
   ],
   "source": [
    "print (str(list1[0]))"
   ]
  },
  {
   "cell_type": "markdown",
   "metadata": {},
   "source": [
    "\n",
    "\n",
    "\n",
    "\n",
    "\n",
    "\n",
    "\n",
    "\n",
    "\n",
    "Create a list called list2 of 5 numbers between 100 and 200"
   ]
  },
  {
   "cell_type": "code",
   "execution_count": 75,
   "metadata": {
    "collapsed": true
   },
   "outputs": [],
   "source": [
    "list2 = [102,135,147,168,193]"
   ]
  },
  {
   "cell_type": "markdown",
   "metadata": {},
   "source": [
    "Print this list as a string"
   ]
  },
  {
   "cell_type": "code",
   "execution_count": 76,
   "metadata": {},
   "outputs": [
    {
     "name": "stdout",
     "output_type": "stream",
     "text": [
      "[102, 135, 147, 168, 193]\n"
     ]
    }
   ],
   "source": [
    "print (str(list2))"
   ]
  },
  {
   "cell_type": "markdown",
   "metadata": {},
   "source": [
    "Print each number in this list invidually (one at a time) as a string"
   ]
  },
  {
   "cell_type": "code",
   "execution_count": 77,
   "metadata": {},
   "outputs": [
    {
     "name": "stdout",
     "output_type": "stream",
     "text": [
      "102\n",
      "135\n",
      "147\n",
      "168\n",
      "193\n"
     ]
    }
   ],
   "source": [
    "i = 0 \n",
    "while (i<=4):\n",
    "    print (str(list2[i]))\n",
    "    i += 1"
   ]
  },
  {
   "cell_type": "markdown",
   "metadata": {},
   "source": [
    "Print the first number in this list as a string"
   ]
  },
  {
   "cell_type": "code",
   "execution_count": 78,
   "metadata": {
    "scrolled": true
   },
   "outputs": [
    {
     "name": "stdout",
     "output_type": "stream",
     "text": [
      "102\n"
     ]
    }
   ],
   "source": [
    "print (str(list2[0]))"
   ]
  },
  {
   "cell_type": "markdown",
   "metadata": {},
   "source": [
    "Print the first number in list1 followed by a space followed by the first number in list2"
   ]
  },
  {
   "cell_type": "code",
   "execution_count": 79,
   "metadata": {},
   "outputs": [
    {
     "name": "stdout",
     "output_type": "stream",
     "text": [
      "7 102\n"
     ]
    }
   ],
   "source": [
    "print ((str(list1[0])) + \" \"  + (str(list2[0])))"
   ]
  },
  {
   "cell_type": "markdown",
   "metadata": {},
   "source": [
    "Print each number in list1, then a space, then that number in list2. ALL AS STRINGS.\n",
    "\n",
    "That is print the first number in list1, space, the first number in list2.\n",
    "\n",
    "The second number in list1, space, the second number in list2.\n",
    "\n",
    "And so on."
   ]
  },
  {
   "cell_type": "code",
   "execution_count": 80,
   "metadata": {},
   "outputs": [
    {
     "name": "stdout",
     "output_type": "stream",
     "text": [
      "7 102\n",
      "24 135\n",
      "53 147\n",
      "77 168\n",
      "89 193\n"
     ]
    }
   ],
   "source": [
    "i = 0\n",
    "while (i<=4):\n",
    "    print ((str(list1[i])) + \" \"  + (str(list2[i])))\n",
    "    i += 1"
   ]
  },
  {
   "cell_type": "markdown",
   "metadata": {},
   "source": [
    "Do the same as above but now skip an extra line between each print statement using the string command to skip a line: '\\n'"
   ]
  },
  {
   "cell_type": "code",
   "execution_count": 81,
   "metadata": {},
   "outputs": [
    {
     "name": "stdout",
     "output_type": "stream",
     "text": [
      "7 102\n",
      "\n",
      "24 135\n",
      "\n",
      "53 147\n",
      "\n",
      "77 168\n",
      "\n",
      "89 193\n",
      "\n"
     ]
    }
   ],
   "source": [
    "\n",
    "i = 0\n",
    "while (i<=4):\n",
    "    print ((str(list1[i])) + \" \"  + (str(list2[i])) + '\\n')\n",
    "    i += 1"
   ]
  },
  {
   "cell_type": "code",
   "execution_count": 86,
   "metadata": {},
   "outputs": [
    {
     "name": "stdout",
     "output_type": "stream",
     "text": [
      "7 102\n",
      "\n",
      "24 135\n",
      "\n",
      "53 147\n",
      "\n",
      "77 168\n",
      "\n",
      "89 193\n",
      "\n"
     ]
    }
   ],
   "source": [
    "i = 0\n",
    "for i in range(len(list1)):\n",
    "    numstr = ((str(list1[i])) + \" \"  + (str(list2[i])) + '\\n')\n",
    "    print(numstr)\n",
    "    i += 1"
   ]
  },
  {
   "cell_type": "markdown",
   "metadata": {},
   "source": [
    "Write your two lists as you did above except now to an output file called print_practice.dat\n",
    "\n",
    "I have included in the cell three functions you will need:"
   ]
  },
  {
   "cell_type": "code",
   "execution_count": 83,
   "metadata": {
    "collapsed": true
   },
   "outputs": [],
   "source": [
    "#opens a file called print_practice.dat that you are going to write into\n",
    "f = open('print_practice.dat','w')\n",
    "\n",
    "#you will need to figure out what goes into the parentheses to be written into the file\n",
    "#i = 0\n",
    "#while (i<=4):\n",
    "    #numstr = ((str(list1[i])) + \" \"  + (str(list2[i])) + '\\n')\n",
    "    #f.write(numstr)\n",
    "    #i += 1\n",
    "    \n",
    "i = 0\n",
    "for i in range(len(list1)):\n",
    "    numstr = ((str(list1[i])) + \" \"  + (str(list2[i])) + '\\n')\n",
    "    f.write(numstr)\n",
    "    i += 1\n",
    "#closes the file when you are done\n",
    "f.close()"
   ]
  },
  {
   "cell_type": "markdown",
   "metadata": {},
   "source": [
    "Now open the file and see if you can read in the two lists!"
   ]
  },
  {
   "cell_type": "code",
   "execution_count": 84,
   "metadata": {},
   "outputs": [
    {
     "name": "stdout",
     "output_type": "stream",
     "text": [
      "7 102\n",
      "24 135\n",
      "53 147\n",
      "77 168\n",
      "89 193\n",
      "\n"
     ]
    }
   ],
   "source": [
    "f = open('print_practice.dat','r')\n",
    "reading = f.read()\n",
    "print (reading)"
   ]
  },
  {
   "cell_type": "code",
   "execution_count": null,
   "metadata": {
    "collapsed": true
   },
   "outputs": [],
   "source": []
  }
 ],
 "metadata": {
  "kernelspec": {
   "display_name": "Python 3",
   "language": "python",
   "name": "python3"
  },
  "language_info": {
   "codemirror_mode": {
    "name": "ipython",
    "version": 3
   },
   "file_extension": ".py",
   "mimetype": "text/x-python",
   "name": "python",
   "nbconvert_exporter": "python",
   "pygments_lexer": "ipython3",
   "version": "3.6.3"
  }
 },
 "nbformat": 4,
 "nbformat_minor": 2
}
