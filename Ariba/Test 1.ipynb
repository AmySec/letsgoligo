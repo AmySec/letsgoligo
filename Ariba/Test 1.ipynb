{
 "cells": [
  {
   "cell_type": "code",
   "execution_count": 2,
   "metadata": {
    "collapsed": true
   },
   "outputs": [],
   "source": [
    "import numpy as np \n",
    "import matplotlib.pyplot as plt\n",
    "from pylab import *\n",
    "%matplotlib inline"
   ]
  },
  {
   "cell_type": "code",
   "execution_count": 3,
   "metadata": {
    "collapsed": true
   },
   "outputs": [],
   "source": [
    "data = loadtxt('output.dat', usecols = (1,2,3,10,11))"
   ]
  },
  {
   "cell_type": "code",
   "execution_count": 4,
   "metadata": {},
   "outputs": [
    {
     "name": "stdout",
     "output_type": "stream",
     "text": [
      "[  0.   1.   2. ...,  11.  13.  19.]\n"
     ]
    }
   ],
   "source": [
    "#column = info from data file and then all info from each column\n",
    "bod_num = data[:,0]\n",
    "mass = data[:,1]\n",
    "time = data[:,2]\n",
    "x = data[:,3]\n",
    "y = data[:,4]\n",
    "print bod_num"
   ]
  },
  {
   "cell_type": "code",
   "execution_count": 15,
   "metadata": {
    "collapsed": true
   },
   "outputs": [],
   "source": [
    "#boolean indexing \n",
    "obj0=bod_num==0\n",
    "obj1=bod_num==1\n",
    "obj2=bod_num==2\n",
    "obj3=bod_num==3\n",
    "obj4=bod_num==4\n",
    "obj5=bod_num==5\n",
    "obj6=bod_num==6\n",
    "obj7=bod_num==7\n",
    "obj8=bod_num==8\n",
    "obj9=bod_num==9\n",
    "obj10=bod_num==10\n",
    "obj11=bod_num==11\n",
    "obj12=bod_num==12\n",
    "obj13=bod_num==13\n",
    "obj14=bod_num==14\n",
    "obj15=bod_num==15\n",
    "obj16=bod_num==16\n",
    "obj17=bod_num==17\n",
    "obj18=bod_num==18\n",
    "obj19=bod_num==19\n",
    "obj20=bod_num==20\n",
    "obj21=bod_num==21\n",
    "obj22=bod_num==22\n",
    "obj23=bod_num==23\n",
    "obj24=bod_num==24"
   ]
  },
  {
   "cell_type": "code",
   "execution_count": 18,
   "metadata": {
    "collapsed": true
   },
   "outputs": [],
   "source": [
    "\n",
    "r = np.sqrt((x**2) + (y**2))"
   ]
  },
  {
   "cell_type": "markdown",
   "metadata": {},
   "source": []
  },
  {
   "cell_type": "code",
   "execution_count": 17,
   "metadata": {},
   "outputs": [
    {
     "data": {
      "image/png": "[encoded data removed]",
      "text/plain": [
       "<matplotlib.figure.Figure at 0x1066b29d0>"
      ]
     },
     "metadata": {},
     "output_type": "display_data"
    }
   ],
   "source": [
    "fig = plt.figure()\n",
    "plt.plot(time[obj1],r[obj1], c = \"#99ff99\", label = mass[obj0][0])\n",
    "plt.plot(time[obj0],r[obj0], c = \"#cc99ff\",label = mass[obj1][1], linestyle = \"-\")\n",
    "plt.plot(time[obj2],r[obj2], c = \"#99ff99\", label = mass[obj2][2])\n",
    "plt.plot(time[obj3],r[obj3], c = \"#99ff99\", label = mass[obj3][3])\n",
    "plt.plot(time[obj4],r[obj4], c = \"#99ff99\", label = mass[obj4][4])\n",
    "plt.plot(time[obj5],r[obj5], c = \"#99ff99\", label = mass[obj5][5])\n",
    "plt.plot(time[obj6],r[obj6], c = \"#99ff99\", label = mass[obj6][6])\n",
    "plt.plot(time[obj7],r[obj7], c = \"#99ff99\", label = mass[obj7][7])\n",
    "plt.plot(time[obj8],r[obj8], c = \"#99ff99\", label = mass[obj8][8])\n",
    "plt.plot(time[obj9],r[obj9], c = \"#99ff99\", label = mass[obj9][9])\n",
    "plt.plot(time[obj10],r[obj10], c = \"#99ff99\", label = mass[obj10][10])\n",
    "plt.plot(time[obj11],r[obj11], c = \"#99ff99\", label = mass[obj11][11])\n",
    "plt.plot(time[obj12],r[obj12], c = \"#99ff99\", label = mass[obj12][12])\n",
    "plt.plot(time[obj13],r[obj13], c = \"#99ff99\", label = mass[obj13][13])\n",
    "plt.plot(time[obj14],r[obj14], c = \"#99ff99\", label = mass[obj14][14])\n",
    "plt.plot(time[obj15],r[obj15], c = \"#99ff99\", label = mass[obj15][15])\n",
    "plt.plot(time[obj16],r[obj16], c = \"#99ff99\", label = mass[obj16][16])\n",
    "plt.plot(time[obj17],r[obj17], c = \"#99ff99\", label = mass[obj17][17])\n",
    "plt.plot(time[obj18],r[obj18], c = \"#99ff99\", label = mass[obj18][18])\n",
    "plt.plot(time[obj19],r[obj19], c = \"#99ff99\", label = mass[obj19][19])\n",
    "plt.plot(time[obj20],r[obj20], c = \"#99ff99\", label = mass[obj20][20])\n",
    "plt.plot(time[obj21],r[obj21], c = \"#99ff99\", label = mass[obj21][21])\n",
    "plt.plot(time[obj22],r[obj22], c = \"#99ff99\", label = mass[obj22][22])\n",
    "plt.plot(time[obj23],r[obj23], c = \"#99ff99\", label = mass[obj23][23])\n",
    "plt.plot(time[obj24],r[obj24], c = \"#99ff99\", label = mass[obj24][24])\n",
    "plt.ylabel(\"Radius (AU)\")\n",
    "plt.xlabel(\"Time (Days)\")\n",
    "plt.title(\"Radius Over Time\")\n",
    "plt.legend()\n",
    "#plt.xlim(0,100000)\n",
    "#plt.ylim(650,670)\n",
    "#print bod_num\n",
    "\n",
    "plt.savefig(\"2nbody_pathA.png\")\n",
    "\n",
    "#for i in r:\n",
    "    #if i > 665:\n",
    "        #plt.plot() c = \"#cc99ff\", marker = \"*\")    "
   ]
  },
  {
   "cell_type": "code",
   "execution_count": null,
   "metadata": {
    "collapsed": true
   },
   "outputs": [],
   "source": []
  },
  {
   "cell_type": "code",
   "execution_count": null,
   "metadata": {
    "collapsed": true
   },
   "outputs": [],
   "source": []
  }
 ],
 "metadata": {
  "kernelspec": {
   "display_name": "Python 2",
   "language": "python",
   "name": "python2"
  },
  "language_info": {
   "codemirror_mode": {
    "name": "ipython",
    "version": 2
   },
   "file_extension": ".py",
   "mimetype": "text/x-python",
   "name": "python",
   "nbconvert_exporter": "python",
   "pygments_lexer": "ipython2",
   "version": "2.7.13"
  }
 },
 "nbformat": 4,
 "nbformat_minor": 2
}
