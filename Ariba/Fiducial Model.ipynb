{
 "cells": [
  {
   "cell_type": "code",
   "execution_count": 6,
   "metadata": {
    "collapsed": true
   },
   "outputs": [],
   "source": [
    "import numpy as np\n",
    "import matplotlib.pyplot as plt"
   ]
  },
  {
   "cell_type": "code",
   "execution_count": 7,
   "metadata": {
    "collapsed": true
   },
   "outputs": [],
   "source": [
    "a = 550 #setmass for a star\n",
    "mstar = 1e8 #supermassiveblack hole \n",
    "m = 40 #mass of black hole\n",
    "avalues = [] \n",
    "avalues.append(a)"
   ]
  },
  {
   "cell_type": "code",
   "execution_count": 8,
   "metadata": {
    "collapsed": true
   },
   "outputs": [],
   "source": [
    "def calcR(m,mstar,a):\n",
    "   p1 = ((2*m)/(3*mstar))**(1/3.)\n",
    "   p2 = (a*2)\n",
    "   p3 = (1- p1)*(5)\n",
    "   r = ((p1*p2)/p3)\n",
    "   return r\n",
    "count = 0\n",
    "while(count<25):\n",
    "    r = calcR(m,mstar,a)\n",
    "    anext = a + (5*r)\n",
    "    avalues.append(anext)\n",
    "    a = anext \n",
    "    count += 1"
   ]
  },
  {
   "cell_type": "code",
   "execution_count": 9,
   "metadata": {
    "collapsed": true
   },
   "outputs": [],
   "source": [
    "avalues = np.array(avalues)"
   ]
  },
  {
   "cell_type": "code",
   "execution_count": 10,
   "metadata": {
    "collapsed": true
   },
   "outputs": [],
   "source": [
    "file = open(\"elements.dat\", \"w\")\n",
    "file.write(str(avalues))\n",
    "file.close()"
   ]
  },
  {
   "cell_type": "code",
   "execution_count": 39,
   "metadata": {},
   "outputs": [],
   "source": [
    "import random\n",
    "angle1 = []\n",
    "angle2 = []\n",
    "#generate 25 random numbers between 0 and 360 and append into respective set\n",
    "for i in range(25):\n",
    "    angle1.append(random.uniform(0, 360))\n",
    "    angle2.append(random.uniform(0, 360))\n",
    "angle1_array = np.array(angle1)\n",
    "angle2_array = np.array(angle2)"
   ]
  },
  {
   "cell_type": "code",
   "execution_count": 36,
   "metadata": {},
   "outputs": [
    {
     "name": "stdout",
     "output_type": "stream",
     "text": [
      "[ 0.08302715  0.00992398  0.09486376  0.0601374   0.02787637  0.06160519\n",
      "  0.05435786  0.05085135  0.05813387  0.02774247  0.00945537  0.02204892\n",
      "  0.05725425  0.08351087  0.06739469  0.02427383  0.00688609  0.00212509\n",
      "  0.01068373  0.1310066   0.05381633  0.0056138   0.00704862  0.0826407\n",
      "  0.02596935]\n"
     ]
    }
   ],
   "source": [
    "#choose numbers with a mean of 0, a standard deviation of 0.05, and item count of 25//then find the abs value \n",
    "inclination = abs(np.random.normal(0,0.05,25))\n",
    "print inclination"
   ]
  },
  {
   "cell_type": "code",
   "execution_count": 33,
   "metadata": {},
   "outputs": [
    {
     "name": "stdout",
     "output_type": "stream",
     "text": [
      "[ 0.03775385  0.06055943  0.05625503  0.09362459  0.09154293  0.04700821\n",
      "  0.04433517  0.04429782  0.05087722  0.06658359  0.02437136  0.02810681\n",
      "  0.09093157  0.05296368  0.04305014  0.02979901  0.07263297  0.02639934\n",
      "  0.05801275  0.07547771  0.02881322  0.02446167  0.07573274  0.06320496\n",
      "  0.0421878 ]\n"
     ]
    }
   ],
   "source": [
    "ecc = np.random.normal(0.05,0.02,25)\n",
    "#accepts only positive values in the set\n",
    "ecc_list = []\n",
    "for i in range(25):\n",
    "    ecc = -1\n",
    "    while(ecc <0):\n",
    "        ecc = np.random.normal(0.05,0.02)\n",
    "    ecc_list.append(ecc)    \n",
    "\n",
    "ecc_array = np.array(ecc_list)"
   ]
  },
  {
   "cell_type": "code",
   "execution_count": 43,
   "metadata": {},
   "outputs": [
    {
     "ename": "SyntaxError",
     "evalue": "invalid syntax (<ipython-input-43-2b5dd9a2610b>, line 2)",
     "output_type": "error",
     "traceback": [
      "\u001b[0;36m  File \u001b[0;32m\"<ipython-input-43-2b5dd9a2610b>\"\u001b[0;36m, line \u001b[0;32m2\u001b[0m\n\u001b[0;31m    addfile = \"   \" + str(m) + \"   \" + str(avalues) +\u001b[0m\n\u001b[0m                                                      ^\u001b[0m\n\u001b[0;31mSyntaxError\u001b[0m\u001b[0;31m:\u001b[0m invalid syntax\n"
     ]
    }
   ],
   "source": [
    "for i in range(25):\n",
    "    addfile = \"   \" + str(m) + \"   \" + str(avalues) + \"   \" + str(ecc_array) + \"   \" + in"
   ]
  },
  {
   "cell_type": "code",
   "execution_count": null,
   "metadata": {
    "collapsed": true
   },
   "outputs": [],
   "source": []
  }
 ],
 "metadata": {
  "kernelspec": {
   "display_name": "Python 2",
   "language": "python",
   "name": "python2"
  },
  "language_info": {
   "codemirror_mode": {
    "name": "ipython",
    "version": 2
   },
   "file_extension": ".py",
   "mimetype": "text/x-python",
   "name": "python",
   "nbconvert_exporter": "python",
   "pygments_lexer": "ipython2",
   "version": "2.7.13"
  }
 },
 "nbformat": 4,
 "nbformat_minor": 2
}
